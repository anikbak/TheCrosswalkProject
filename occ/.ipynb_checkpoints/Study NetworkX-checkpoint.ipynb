{
 "cells": [
  {
   "cell_type": "code",
   "execution_count": 8,
   "id": "b1d85555",
   "metadata": {},
   "outputs": [],
   "source": [
    "import pandas as pd, numpy as np, matplotlib.pyplot as plt,fnmatch\n",
    "%matplotlib inline\n",
    "import networkx as nx \n",
    "\n",
    "xw = pd.read_csv(\"xwalk_soc_ONET/2000_to_2006_Crosswalk.csv\")\n",
    "\n",
    "def df2OneWayAdj(df,class1,class2):\n",
    "    \n",
    "    X1 = df[class1].unique()\n",
    "    X2 = df[class2].unique()\n",
    "    N1,N2 = len(X1),len(X2)\n",
    "    Adj = np.zeros((N1,N2))\n",
    "    \n",
    "    for ix in range(N1):\n",
    "        x2 = df.loc[(df[class1]==X1[ix]),class2].unique()\n",
    "        for x in x2:\n",
    "            iy = np.where(X2==x)\n",
    "            Adj[ix,iy] = 1\n",
    "    return Adj \n",
    "\n",
    "def df2Graph1Way(df,class1,class2):\n",
    "    '''\n",
    "    NOTE: each class must be an pd.Object to which a str can be appended without error. \n",
    "    '''\n",
    "    X1 = df[class1].unique()\n",
    "    X2 = df[class2].unique()\n",
    "    X1N = ['g1:'+x for x in X1]\n",
    "    X2N = ['g2:'+x for x in X2]\n",
    "    \n",
    "    G = nx.Graph()\n",
    "    G.add_nodes_from(X1N+X2N)\n",
    "    \n",
    "    for x in X1:\n",
    "        x2 = df.loc[df[class1]==x,class2].unique()\n",
    "        G.add_edges_from([('g1:'+x,'g2:'+xmatch) for xmatch in x2])\n",
    "        \n",
    "    return G\n",
    "\n",
    "def df2Graph2Way(df,class1,class2):\n",
    "    '''\n",
    "    NOTE: each class must be an pd.Object to which a str can be appended without error. \n",
    "    '''\n",
    "    X1 = df[class1].unique()\n",
    "    X2 = df[class2].unique()\n",
    "    X1N = ['g1:'+x for x in X1]\n",
    "    X2N = ['g2:'+x for x in X2]\n",
    "    \n",
    "    G = nx.Graph()\n",
    "    G.add_nodes_from(X1N+X2N)\n",
    "    \n",
    "    for x in X1:\n",
    "        x2 = df.loc[df[class1]==x,class2].unique()\n",
    "        G.add_edges_from([('g1:'+x,'g2:'+xmatch) for xmatch in x2])\n",
    "        \n",
    "    for x in X2:\n",
    "        x1 = df.loc[df[class2]==x,class1].unique()\n",
    "        G.add_edges_from([('g1:'+xmatch,'g2:'+x) for xmatch in x1])\n",
    "        \n",
    "    return G"
   ]
  },
  {
   "cell_type": "code",
   "execution_count": 12,
   "id": "7732514a",
   "metadata": {
    "scrolled": true
   },
   "outputs": [],
   "source": [
    "class1,class2 = 'O*NET-SOC 2000 Code','O*NET-SOC 2006 Code'\n",
    "G1 = df2Graph1Way(xw,class1,class2)\n",
    "G2 = df2Graph2Way(xw,class1,class2)\n",
    "\n",
    "# Construct connected components of G\n",
    "GC1 = [G1.subgraph(c).copy() for c in nx.connected_components(G1)]\n",
    "GC2 = [G2.subgraph(c).copy() for c in nx.connected_components(G2)]\n",
    "\n",
    "# Given connected components, assign a common ID number\n",
    "Classification1,Classification2 = {},{}\n",
    "\n",
    "for i in range(len(GC2)):\n",
    "    sg = GC2[i]\n",
    "    Classification1[i] = fnmatch.filter(sg.nodes(),'g1:*')\n",
    "    Classification2[i] = fnmatch.filter(sg.nodes(),'g2:*')\n",
    "    \n"
   ]
  },
  {
   "cell_type": "code",
   "execution_count": 13,
   "id": "458fcf7c",
   "metadata": {},
   "outputs": [
    {
     "data": {
      "text/plain": [
       "(['g1:11-1011.00', 'g1:11-1011.02', 'g1:11-1011.01'], ['g2:11-1011.00'])"
      ]
     },
     "execution_count": 13,
     "metadata": {},
     "output_type": "execute_result"
    }
   ],
   "source": [
    "Classification1[0],Classification2[0]"
   ]
  },
  {
   "cell_type": "code",
   "execution_count": null,
   "id": "1195794e",
   "metadata": {},
   "outputs": [],
   "source": []
  }
 ],
 "metadata": {
  "kernelspec": {
   "display_name": "Python 3 (ipykernel)",
   "language": "python",
   "name": "python3"
  },
  "language_info": {
   "codemirror_mode": {
    "name": "ipython",
    "version": 3
   },
   "file_extension": ".py",
   "mimetype": "text/x-python",
   "name": "python",
   "nbconvert_exporter": "python",
   "pygments_lexer": "ipython3",
   "version": "3.9.5"
  }
 },
 "nbformat": 4,
 "nbformat_minor": 5
}
